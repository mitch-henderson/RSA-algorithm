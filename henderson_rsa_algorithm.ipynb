{
 "cells": [
  {
   "cell_type": "markdown",
   "metadata": {},
   "source": [
    "## RSA - The Project"
    
   ]
  },
  {
   "cell_type": "markdown",
   "metadata": {},
   "source": [
    "Name:  Mitch Henderson\n",
    "\n",
    "Moodle Email: mihe2568@colorado.edu\n",
    "\n",
    "Did you name your file \"cuidentikey\".ipynb ? Answer yes"
    
   ]
  },
  {
   "cell_type": "markdown",
   "metadata": {},
   "source": [
    "<hr />\n",
    "\n",
    "# Table of Contents\n",
    "\n",
    "### 1. Introduction\n",
    "\n",
    "### 2. RSA Code Package\n",
    "###### &nbsp;&nbsp;&nbsp;&nbsp;&nbsp;&nbsp; 2.1 Basic tool set\n",
    "###### &nbsp;&nbsp;&nbsp;&nbsp;&nbsp;&nbsp; 2.2 First tool set\n",
    "###### &nbsp;&nbsp;&nbsp;&nbsp;&nbsp;&nbsp; 2.3 2nd tool set\n",
    "\n",
    "### 3. RSA More Code\n",
    "###### &nbsp;&nbsp;&nbsp;&nbsp;&nbsp;&nbsp; 3.1 Step 1: Get Keys\n",
    "###### &nbsp;&nbsp;&nbsp;&nbsp;&nbsp;&nbsp; 3.2 Step 2: Encode\n",
    "###### &nbsp;&nbsp;&nbsp;&nbsp;&nbsp;&nbsp; 3.3 Step 3: Decode\n",
    "\n",
    "### 4. How the RSA demo works - This will be a mix of code and text blocks \n",
    "###### &nbsp;&nbsp;&nbsp;&nbsp;&nbsp;&nbsp; 4.1 Get Keys\n",
    "###### &nbsp;&nbsp;&nbsp;&nbsp;&nbsp;&nbsp; 4.2 Encode\n",
    "###### &nbsp;&nbsp;&nbsp;&nbsp;&nbsp;&nbsp; 4.3 Decode\n",
    "\n",
    "### 5. Exchanging keys and codes\n",
    "\n",
    "### 6. Brute force method of finding factors of n\n",
    "\n",
    "### 7. Breaking codes without a private key\n",
    "\n",
    "### 8. How many codes did I break?\n",
    "\n",
    "### 9. Improving the brute force method of factoring\n",
    "\n",
    "### 10. Conclusion"
   ]
  },
  {
   "cell_type": "markdown",
   "metadata": {},
   "source": [
    "### 1. Introduction to your RSA Package and Project.  Give an overview of your project and what you have learned."
   ]
  },
  {
   "cell_type": "markdown",
   "metadata": {},
   "source": [
    "* Put introduction/overview here. This should be something someone could read who has never seen your project to understanding what is coming. \n",
    "\n",
    "### Here you are going to see an implementation of the security protocol comonly referred to as RSA.  I start by converting text into ascii characters.  From there I take these characters and expand them into their binary expansion.  We create two tool sets.  \n",
    "\n",
    "### The first tool set will run an algorithm called Fast Modular Exponentiation. This will be used to first encrypt the message, and then subsequently to decrypt the message. It will be sped up using the binary expansion of the ascii characters to help decrypt other people's codes.\n",
    "\n",
    "### Then, also in the first toolset, I run another algorithm called Exapnded Euclidean Algorithm. This will be used to determine the value of \"d\". \"d\" is the inverse of e modulo (p-1)(q-1).  We keep these values d and n as our private key.\n",
    "\n",
    "### The functions in the second toolset will generate the public and private key pairs which will then be used to create a ciphertext using the public key and then decode the same using the private key. So here in my second toolset, find_public_key, I have a function that will produce two values, e and n. This function will run a loop to find e such that e is relatively prime to (p - 1) (q - 1) and not equal to p or q.\n",
    "\n",
    "### Then, in our second toolset, find_private_key, we have a function to find the decryption exponent d such that d is the modular inverse of e.  This uses the Extended Eucliean Algorithm and returns d: the decryption component. \n",
    "\n",
    "### Then, in my third part, I use the Encode function Convert_Text from Second tool set and get a list of numbers. I encode each of those numbers using n and e and return the encoded cipher_text. Using the public key, the Encode function will encode a message and generate the corresponding cipher_text.\n",
    "\n",
    "### Here, in my third part, we use the Decode function.  the cipher_text will be a list of integers. First, I decrypt each of those integers using n and d. I use the function that converts the integers to a string defined in second toolset to recover the original message as a string. Using the private key, the Decode function will decode a ciper_text and recover the original message.\n",
    "\n"
   ]
  },
  {
   "cell_type": "markdown",
   "metadata": {},
   "source": [
    "### 2.1\n",
    "#### Basic tool set\n",
    "\n",
    "These are functions that you'll need to pre-process the messages before the messages are encoded and decoded by the RSA algorithm. That is the reason we will be defining them first.\n",
    "\n"
   ]
  },
  {
   "cell_type": "code",
   "execution_count": 1,
   "metadata": {},
   "outputs": [],
   "source": [
    "def Convert_Text(_string):\n",
    "    \"\"\"\n",
    "    Define this function such that it takes in a simple \n",
    "    string such as \"hello\" and outputs the corresponding\n",
    "    standard list of integers (ascii) for each letter in the word hello.\n",
    "    For example:\n",
    "    _string = hello\n",
    "    integer_list = [104, 101, 108, 108, 111]\n",
    "    \"\"\"\n",
    "    integer_list = [] #setting the integer list\n",
    "    for letter in _string:\n",
    "        result = ord(letter)#the result is the value of the byte when the argument is an 8-bit string\n",
    "        integer_list.append(result) #appending to list\n",
    "    \n",
    "    return integer_list"
   ]
  },
  {
   "cell_type": "code",
   "execution_count": 2,
   "metadata": {},
   "outputs": [],
   "source": [
    "def Convert_Num(_list):\n",
    "    \"\"\"\n",
    "    Do the opposite of what you did in the Convert_Text\n",
    "    function defined above.\n",
    "    \n",
    "    Define this function such that it takes in a simple \n",
    "    string such as \"hello\" and outputs the corresponding\n",
    "    list of integers for each letter in the word hello.\n",
    "    For example:\n",
    "    _list = [104, 101, 108, 108, 111]\n",
    "    _string = hello\n",
    "    \"\"\"\n",
    "    _string = ''\n",
    "    for i in _list: #iterating through i in _list\n",
    "        _string += chr(i) #returns the string representing the character whose Unicode code point is an integer.\n",
    "    return _string"
   ]
  },
  {
   "cell_type": "code",
   "execution_count": 3,
   "metadata": {},
   "outputs": [],
   "source": [
    "# 234\n",
    "# 0 - 0\n",
    "# 1 - 1\n",
    "# 2 = 10\n",
    "# 3 = 11\n",
    "# 4 = 100\n",
    "\n",
    "# 234 in base 10 is what in binary?\n",
    "# 234-128 = 106-64 = 42-32 = 10-8 = 2-2 = 0\n",
    "\n",
    "#   1  1  1  0  1  0  1  0\n",
    "# 128 64 32 16  8  4  2  1\n",
    "\n",
    "\n",
    "# 234 =  11101010\n",
    "# 0*1\n",
    "# 1*2\n",
    "# 0*4\n",
    "# 1*8\n",
    "# 0*16\n",
    "# 1*32\n",
    "# 1*64\n",
    "# 1*128\n",
    "\n",
    "\n",
    "\n",
    "\n"
   ]
  },
  {
   "cell_type": "code",
   "execution_count": 4,
   "metadata": {},
   "outputs": [
    {
     "data": {
      "text/plain": [
       "'101011001'"
      ]
     },
     "execution_count": 4,
     "metadata": {},
     "output_type": "execute_result"
    }
   ],
   "source": [
    "def Convert_Binary_String(_int):\n",
    "    \"\"\"\n",
    "    Here, you need to define a function that converts an integer to\n",
    "    a string of it's binary expansion.\n",
    "    \n",
    "    For example:\n",
    "    _int = 345\n",
    "    bits = 101011001\n",
    "    \"\"\"\n",
    "    bits = ''\n",
    "    value = 1\n",
    "    # keep doubling value until it exceeds int: 1 2 4 8 16 32 64 128 256 512 (for 345 eg)\n",
    "    while value <= _int:\n",
    "        value = value * 2\n",
    "    # divide value in half so it's just barely smaller (or possibly equal)\n",
    "    value = value // 2 # (256, eg for 345)\n",
    "    while value > 0: # do this until value gets back to 1\n",
    "        if _int >= value: # if we can take \"value\" out of int\n",
    "            _int = _int - value\n",
    "            bits = bits + \"1\" # add a 1\n",
    "        else:\n",
    "            # int stays the same, but add a 0 to indicate the inability to do so\n",
    "            bits = bits + \"0\"\n",
    "        value = value//2 # divide value by 2, to progress through digits (256 128 64 etc etc)\n",
    "    \n",
    "    return bits\n",
    "\n",
    "Convert_Binary_String(345)"
   ]
  },
  {
   "cell_type": "markdown",
   "metadata": {},
   "source": [
    "Now that you're done with the basic toolset we'll move on to the first tool set which are actually involved in the RSA system."
   ]
  },
  {
   "cell_type": "markdown",
   "metadata": {},
   "source": [
    "### 2.2 \n",
    "#### First tool set.\n",
    "\n"
   ]
  },
  {
   "cell_type": "code",
   "execution_count": 5,
   "metadata": {},
   "outputs": [
    {
     "data": {
      "text/plain": [
       "0"
      ]
     },
     "execution_count": 5,
     "metadata": {},
     "output_type": "execute_result"
    }
   ],
   "source": [
    "def FME( b, n, m):\n",
    "    \"\"\"\n",
    "    1. Using the fast modular exponentiation algorithm.\n",
    "    the below function should return b**n mod m.\n",
    "    As described on page 254. (however, you may input the exponent and \n",
    "    then convert it to a string - the book verison imports the binary expansion)  \n",
    "    2. You should use the function defined above\n",
    "    Convert_Binary_String()\n",
    "    3. Use this string to test which components are used in the calculation.\n",
    "    4. Yes, there are many other ways to do this. \n",
    "***UPDATE*** You may use the function you developed in Week 6 - but be sure it is your own work commented etc.. and change inputs as needed.\n",
    "    \"\"\"  \n",
    "    \n",
    "    n_bin = Convert_Binary_String(n)\n",
    "    r = 1 #starting with r equal to 1\n",
    "    for bit in n_bin: #looping through this for loop\n",
    "        r = r*r #start with r equal to r times r\n",
    "        if bit == \"1\": #if bit is equal to 1 then\n",
    "            r = (r * b) #setting r = to r * b\n",
    "        else:\n",
    "            pass\n",
    "        #print(r, m)\n",
    "        r = r%m # here I set r equal to r modulo m\n",
    "    '''\n",
    "    eprime = 0\n",
    "    if m == 1:\n",
    "        return 0\n",
    "    result = 1\n",
    "    while eprime < exponent:\n",
    "        result = (result * b) % m\n",
    "        eprime = eprime + 1\n",
    "    return result\n",
    "    '''\n",
    "    return r #finally returning r\n",
    "    \n",
    "# note: input throws off the notebook\n",
    "#b = int(input(\"Enter base: \"))\n",
    "#n = int(input(\"Enter exponent: \"))\n",
    "#m = int(input(\"Enter modulus: \"))\n",
    "#print(\"Answer is \", FME(b, n, m) )\n",
    "FME(100, 200, 50)\n"
   ]
  },
  {
   "cell_type": "code",
   "execution_count": 6,
   "metadata": {},
   "outputs": [
    {
     "name": "stdout",
     "output_type": "stream",
     "text": [
      "17\n"
     ]
    }
   ],
   "source": [
    "def Euclidean_Alg(a, b):\n",
    "    \"\"\"\n",
    "    1. Calculate the Greatest Common Divisor of a and b.\n",
    "    \n",
    "    2. Unless b==0, the result will have the same sign as b (so that when\n",
    "    b is divided by it, the result comes out positive).\n",
    "    The function must return a single integer 'x' which is\n",
    "    the gcd of a and b.\n",
    "    \"\"\"\n",
    "    while  b != 0: #as long as b is not zero\n",
    "        \n",
    "        remainder = a % b # get remainder\n",
    "        \n",
    "        a = b #setting a equal to b\n",
    "        b = remainder #setting b to the remainder\n",
    "    x = a #setting x now equal to a\n",
    "    return x \n",
    "\n",
    "result = Euclidean_Alg(34,51)\n",
    "print(result)\n",
    "\n"
   ]
  },
  {
   "cell_type": "markdown",
   "metadata": {},
   "source": [
    "### 2.3\n",
    "#### Second tool set\n",
    "\n",
    "Here we will implement the meat of the RSA cryptosystem. The functions below will generate the public and private key pairs which will then be used to create a ciphertext using the public key and then decode the same using the pirvate key.\n",
    "\n"
   ]
  },
  {
   "cell_type": "code",
   "execution_count": 7,
   "metadata": {},
   "outputs": [
    {
     "data": {
      "text/plain": [
       "(11, 899)"
      ]
     },
     "execution_count": 7,
     "metadata": {},
     "output_type": "execute_result"
    }
   ],
   "source": [
    "def get_primes_to_sqrt(n):\n",
    "    # we know that the prime we find must be less than or equal to the square root of n\n",
    "    # [0, 1, 2, 3, 4, 5, 6, 7, 8, 9, 10, 11, 12]\n",
    "    # [F  F  T  T  T  T  T  T  T  T   T   T   T] \n",
    "    cap = int((n+1)**0.5)+1 # set the cap to the square root of n+1 (plus an extra 1 for wiggle room)\n",
    "    # primes variable will represent whether the number at that index is prime.  eg: primes[7] == True, primes[8] == False\n",
    "    primes = [True]*cap # create that many trues (so if number is 10,000, cap will be 101, and 101*101 >= 10,000)\n",
    "    primes[0] = False # 0 can't be prime\n",
    "    primes[1] = False # 1 also can't be prime\n",
    "    p = 1 # so starting from 1\n",
    "    \n",
    "    while p < cap: # as long as p is less than the cap\n",
    "        p = p + 1 # add 1 to it\n",
    "        while p < cap and primes[p] == False: # and as long as primes[p] has already been determiend as not prime\n",
    "            p = p + 1 # add 1 until it hits a number that IS prime (since it's not divisible by any smaller numbers)\n",
    "        for i in range(p*p, cap, p): # now starting from p, make every p'th number non-prime (not counting p)\n",
    "            primes[i] = False \n",
    "            # 0f 1f 2T 3T 4f 5T 6f 7T 8f 9f 10f 11T 12f 13 14f 15f 16f 17 18f 19 20f 21f 22f 23..\n",
    "            # note; I START AT p*p because EVERYTHING between 11 and 121 that's divisble by 11 would have to be divisible by a number < 11\n",
    "            # eg: 77 looks like it might be prime, but it's divisble by 11, and ALSO by 7 (which is less than 11) so no need to check 77.\n",
    "    prime_numbers = [] # prepare the prime number box\n",
    "    for i in range(0, cap): # go through the entire collection of trues and falses\n",
    "        if primes[i] == True: # and if a value is true\n",
    "            prime_numbers.append(i) # that index (i) is prime\n",
    "    return prime_numbers # return the numbers\n",
    "\n",
    "def Find_Public_Key_e(p, q):\n",
    "    \"\"\"\n",
    "    Implement this function such that\n",
    "    it takes 2 primes p and q.\n",
    "    \n",
    "    Use the gcd function that you have \n",
    "    defined before.\n",
    "    \n",
    "    The function should return 2 elements as follows:\n",
    "    public key: n\n",
    "    public key: e\n",
    "    \n",
    "    \n",
    "    HINT: this function will run a loop to find e such \n",
    "    that e is relatively prime to (p - 1) (q - 1) \n",
    "    and not equal to p or q.\n",
    "    \"\"\"\n",
    "    n = p*q #from RSA algorithm\n",
    "    m = (p-1)*(q-1) #from the RSA algorithm\n",
    "    \n",
    "    primes = get_primes_to_sqrt(n) #setting primes to get_primes_to_square root\n",
    "    for e in primes: \n",
    "        if Euclidean_Alg(m, e) == 1:  #if gcd is equal to 1\n",
    "            return (e, n) #then return e and n\n",
    "        \n",
    "    return (e, n)\n",
    "\n",
    "Find_Public_Key_e(29, 31)"
   ]
  },
  {
   "cell_type": "code",
   "execution_count": 8,
   "metadata": {},
   "outputs": [
    {
     "data": {
      "text/plain": [
       "(23697955405914833, 28794290241716387)"
      ]
     },
     "execution_count": 8,
     "metadata": {},
     "output_type": "execute_result"
    }
   ],
   "source": [
    "def egcd(a, b):\n",
    "    #https://crypto.stackexchange.com/questions/19444/rsa-given-q-p-and-e\n",
    "    #I used this because my earlier posted method was simply taking too long. I needed to see inspiration from where this could work to find d.\n",
    "    x = 0\n",
    "    y = 1\n",
    "    u = 1\n",
    "    v = 0\n",
    "    while a != 0:\n",
    "        q = b//a # q is b/a rounded down\n",
    "        r = b%a # r is the remainder of b/a\n",
    "        m = x-u*q # m is x minus u*q\n",
    "        n = y-v*q # n is y minus v*q\n",
    "        b = a # move a to b, r to a, u to x, v to y, m to u , n to v, and b to gcd\n",
    "        a = r # then repeat until a becomes 0\n",
    "        x = u\n",
    "        y = v\n",
    "        u = m\n",
    "        v = n\n",
    "        gcd = b\n",
    "    return x\n",
    "\n",
    "def Find_Private_Key_d(e, p, q):\n",
    "    \"\"\"\n",
    "    Implement this method\n",
    "    to find the decryption exponent d such that\n",
    "    d is the modular inverse of e. \n",
    "    \n",
    "    This will use the Extended Eucliean Algorithm\n",
    "    \n",
    "    This function should return the following:\n",
    "    d: the decryption component.\n",
    "    \"\"\"\n",
    "    m = (p-1)*(q-1) #from the RSA algorithm\n",
    "    d = egcd(e, m) #setting do to the gcd of e and m\n",
    "    # cleanup for when it is negative\n",
    "    while d <= 0:\n",
    "        d += m #adding until we get to a positive d\n",
    "    d\n",
    "    \n",
    "    return d, p*q\n",
    "\n",
    "e = 113\n",
    "p = 160481219\n",
    "q = 179424673\n",
    "d, n = Find_Private_Key_d(e, p, q)\n",
    "d, n"
   ]
  },
  {
   "cell_type": "markdown",
   "metadata": {},
   "source": [
    "### 3.\n",
    "#### Putting things all together.\n",
    "\n",
    "1. In this part, you will define two functions `Encode` and `Decode` which will use the public and private keys that you calculated using the above 2 functions in the third toolset.\n",
    "2. Using the public key, the `Encode` function will encode a message and generate the corresponding cipher_text.\n",
    "3. Using the private key, the `Decode` function will decode a ciper_text and recover the original message.\n",
    "\n"
   ]
  },
  {
   "cell_type": "code",
   "execution_count": 9,
   "metadata": {},
   "outputs": [
    {
     "data": {
      "text/plain": [
       "[868860133601557,\n",
       " 13211641791567831,\n",
       " 20436916271957116,\n",
       " 8302426957980714,\n",
       " 19942730250851363,\n",
       " 8302426957980714,\n",
       " 27102085920647667,\n",
       " 5185778824741955,\n",
       " 25824199538612172,\n",
       " 19942730250851363,\n",
       " 27102085920647667,\n",
       " 19270259444554612,\n",
       " 19942730250851363,\n",
       " 27102085920647667,\n",
       " 8302426957980714,\n",
       " 21071392622714283]"
      ]
     },
     "execution_count": 9,
     "metadata": {},
     "output_type": "execute_result"
    }
   ],
   "source": [
    "def Encode(n, e, message):\n",
    "    \"\"\"\n",
    "    Here, the message will be a string of characters.\n",
    "    Use the function Convert_Text from \n",
    "    Second tool set and get a list of numbers.\n",
    "    \n",
    "    Encode each of those numbers using n and e and\n",
    "    return the encoded cipher_text.\n",
    "    \"\"\"\n",
    "    cipher_text = [] #setting up the cipher_text\n",
    "    for letter in message: #creating the for loop to encoded each character\n",
    "        ascii_val = ord(letter) # returning the integer representing the Unicode code point of the character \n",
    "        encoded = FME(ascii_val, e, n) # setting encoded to the FME algorithm\n",
    "        cipher_text.append(encoded) # appending the string together of the ASCII encoded values of the cipher text\n",
    "    return cipher_text\n",
    "\n",
    "encoded = Encode(n, e, \"What time is it?\") #input here the text to be encoded\n",
    "encoded"
   ]
  },
  {
   "cell_type": "code",
   "execution_count": 10,
   "metadata": {},
   "outputs": [
    {
     "data": {
      "text/plain": [
       "'What time is it?'"
      ]
     },
     "execution_count": 10,
     "metadata": {},
     "output_type": "execute_result"
    }
   ],
   "source": [
    "def Decode(n, d, cipher_text):\n",
    "    \"\"\"\n",
    "    Here, the cipher_text will be a list of integers.\n",
    "    First, you will decrypt each of those integers using \n",
    "    n and d.\n",
    "    Later, you will need to use the function that converts the integers to a string \n",
    "    defined in second toolset\n",
    "    to recover the original message as a string. \n",
    "    \n",
    "    \"\"\"\n",
    "    message = '' #setting up the message\n",
    "    for letter in cipher_text: #creating for loop to decode each character\n",
    "        decoded = FME(letter, d, n) #using the FME to decode using letter, d and n values\n",
    "        ascii_val = chr(decoded) #finding the integer representing the unicode point of the character\n",
    "        message += ascii_val #putting the message together\n",
    "    return message\n",
    "\n",
    "decoded = Decode(n, d, encoded) #the decoded message using n, d, and the encoded message\n",
    "\n",
    "decoded\n"
   ]
  },
  {
   "cell_type": "markdown",
   "metadata": {},
   "source": [
    "#### Now the fun begins:"
   ]
  },
  {
   "cell_type": "code",
   "execution_count": 11,
   "metadata": {},
   "outputs": [
    {
     "name": "stdout",
     "output_type": "stream",
     "text": [
      "1. Get Keys\n",
      "2. Encode\n",
      "3. Decode\n",
      "0. Exit\n",
      "-----------------\n",
      "p=13, q=17, e=739, n=743, d=77\n"
     ]
    },
    {
     "name": "stdin",
     "output_type": "stream",
     "text": [
      "Menu:  0\n"
     ]
    },
    {
     "name": "stdout",
     "output_type": "stream",
     "text": [
      "You shall be missed.\n",
      "Program Terminated\n"
     ]
    }
   ],
   "source": [
    "\n",
    "if __name__ == '__main__':\n",
    "    \"\"\"\"\n",
    "    Implement a main function such that:\n",
    "    \n",
    "    1. Asks the user to Get Keys, Encode or Decode.\n",
    "    2. If Getting keys, it will need to ask for p and q. \n",
    "    3. If Encoding, it will need the message and public keys.\n",
    "    4. If Decoding it will need the coded message, and public and private keys.\n",
    "    \n",
    "    You may implement this differently if you want, add more functions, \n",
    "    include a list of useful primes etc... \n",
    "    Just implement in a way that makes sense to you.\n",
    "    And explain why.\n",
    "    \n",
    "    \n",
    "    USING A MAIN FUNCTION IS OPTIONAL if you feel you do not have enough experince. \n",
    "    You will need to organize your functions within the Jupyter Notebook \n",
    "    so we can follow what you are doing.\n",
    "    \n",
    "    \"\"\"\n",
    "    # (set some defaults)\n",
    "    choice = \"?\"\n",
    "    p = 13\n",
    "    q = 17\n",
    "    e = 739 #I used a prime number found from https://en.wikipedia.org/wiki/Prime_number\n",
    "    n = 743 #Same here, used a prime from https://en.wikipedia.org/wiki/Prime_number\n",
    "    d = 77\n",
    "    print(\"1. Get Keys\")\n",
    "    print(\"2. Encode\")\n",
    "    print(\"3. Decode\")\n",
    "    print(\"0. Exit\")\n",
    "    while choice != \"0\": #while it's not zero to exit\n",
    "        print('-----------------')\n",
    "        print(\"p=\" + str(p) + \", q=\" + str(q) + \", e=\" + str(e) + \", n=\" + str(n) + \", d=\" + str(d)) #setting up the menu options\n",
    "        choice = input(\"Menu: \") #setting up the menu options\n",
    "        if choice == \"1\":\n",
    "            p = int(input(\"What value for p? \"))\n",
    "            q = int(input(\"What value for q? \"))\n",
    "            e, n = Find_Public_Key_e(p, q)\n",
    "            d, n = Find_Private_Key_d(e, p, q)\n",
    "        elif choice == \"2\":\n",
    "            message = input(\"Input message: \")\n",
    "            cipher_text = Encode(n, e, message)\n",
    "            print(cipher_text)\n",
    "        elif choice == \"3\":\n",
    "            cipher_text = input(\"Input cipher text (including [square brackets]): \")\n",
    "            cipher_text = cipher_text[1:-1]\n",
    "            cipher_text = cipher_text.split(', ')\n",
    "            cipher_text = [int(num) for num in cipher_text]\n",
    "            message = Decode(n, d, cipher_text)\n",
    "            print(message)\n",
    "        elif choice == \"0\":\n",
    "            print(\"You shall be missed.\")\n",
    "        else:\n",
    "            print(\"You have failed.  Please try again.\")\n",
    "    \n",
    "    print(\"Program Terminated\")\n"
   ]
  },
  {
   "cell_type": "markdown",
   "metadata": {},
   "source": [
    "### 4. \n",
    "\n",
    "### Demonstrate how your RSA works below, by encoding and decoding a sample message here using your main above and sample inputs. Describe how this works and why you choose to put it together the way you did.\n"
   ]
  },
  {
   "cell_type": "code",
   "execution_count": 12,
   "metadata": {},
   "outputs": [],
   "source": [
    "## \"4\" demo here in mix of text and code blocks"
   ]
  },
  {
   "cell_type": "code",
   "execution_count": 13,
   "metadata": {},
   "outputs": [
    {
     "ename": "SyntaxError",
     "evalue": "invalid syntax (<ipython-input-13-45e3db4272e7>, line 1)",
     "output_type": "error",
     "traceback": [
      "\u001b[0;36m  File \u001b[0;32m\"<ipython-input-13-45e3db4272e7>\"\u001b[0;36m, line \u001b[0;32m1\u001b[0m\n\u001b[0;31m    1. Get Keys\u001b[0m\n\u001b[0m         ^\u001b[0m\n\u001b[0;31mSyntaxError\u001b[0m\u001b[0;31m:\u001b[0m invalid syntax\n"
     ]
    }
   ],
   "source": [
    "1. Get Keys\n",
    "2. Encode\n",
    "3. Decode\n",
    "0. Exit\n",
    "-----------------\n",
    "p=13, q=17, e=5, n=221, d=77\n",
    "Menu:  2\n",
    "Input message:  Greetings, Earth creature.\n",
    "[158, 173, 186, 186, 12, 209, 145, 103, 98, 57, 2, 205, 54, 173, 12, 117, 2, 216, 173, 186, 54, 12, 104, 173, 186, 37]\n",
    "-----------------\n",
    "p=13, q=17, e=5, n=221, d=77\n",
    "Menu:  3\n",
    "Input cipher text (including [square brackes]):  [158, 173, 186, 186, 12, 209, 145, 103, 98, 57, 2, 205, 54, 173, 12, 117, 2, 216, 173, 186, 54, 12, 104, 173, 186, 37]\n",
    "Greetings, Earth creature.\n",
    "-----------------\n",
    "p=13, q=17, e=5, n=221, d=77\n",
    "Menu:  0\n",
    "You shall be missed.\n",
    "Program Terminated"
   ]
  },
  {
   "cell_type": "code",
   "execution_count": 14,
   "metadata": {},
   "outputs": [
    {
     "ename": "SyntaxError",
     "evalue": "invalid syntax (<ipython-input-14-586a99fed19c>, line 1)",
     "output_type": "error",
     "traceback": [
      "\u001b[0;36m  File \u001b[0;32m\"<ipython-input-14-586a99fed19c>\"\u001b[0;36m, line \u001b[0;32m1\u001b[0m\n\u001b[0;31m    1. Get Keys\u001b[0m\n\u001b[0m         ^\u001b[0m\n\u001b[0;31mSyntaxError\u001b[0m\u001b[0;31m:\u001b[0m invalid syntax\n"
     ]
    }
   ],
   "source": [
    "1. Get Keys\n",
    "2. Encode\n",
    "3. Decode\n",
    "0. Exit\n",
    "-----------------\n",
    "p=13, q=17, e=5, n=221, d=77\n",
    "Menu:  1\n",
    "What value for p?  100003\n",
    "What value for q?  100019\n",
    "-----------------\n",
    "p=100003, q=100019, e=5, n=10002200057, d=8001600029\n",
    "Menu:  2\n",
    "Input message:  Zzyzx is a weird name for a road.\n",
    "[5904900000, 7022681518, 5933024487, 7022681518, 4878799886, 33554432, 2760615568, 109171761, 33554432, 8587340257, 33554432, 3859136485, 507900444, 2760615568, 9251945767, 10000000000, 33554432, 6102899943, 8587340257, 5384039492, 507900444, 33554432, 1038607975, 6848381494, 9251945767, 33554432, 8587340257, 33554432, 9251945767, 6848381494, 8587340257, 10000000000, 205962976]\n",
    "-----------------\n",
    "p=100003, q=100019, e=5, n=10002200057, d=8001600029\n",
    "Menu:  3\n",
    "Input cipher text (including [square brackes]):  [5904900000, 7022681518, 5933024487, 7022681518, 4878799886, 33554432, 2760615568, 109171761, 33554432, 8587340257, 33554432, 3859136485, 507900444, 2760615568, 9251945767, 10000000000, 33554432, 6102899943, 8587340257, 5384039492, 507900444, 33554432, 1038607975, 6848381494, 9251945767, 33554432, 8587340257, 33554432, 9251945767, 6848381494, 8587340257, 10000000000, 205962976]\n",
    "Zzyzx is a weird name for a road."
   ]
  },
  {
   "cell_type": "code",
   "execution_count": null,
   "metadata": {},
   "outputs": [],
   "source": []
  },
  {
   "cell_type": "markdown",
   "metadata": {},
   "source": [
    "### 5.\n",
    "**Next we will put it all together:**\n",
    "\n",
    "* Find your public and private keys with  Find_Public_Key_e and Find_Private_Key_d\n",
    "\n",
    "* Create digital messages with Encode.\n",
    "\n",
    "* Decode with Decode.\n",
    "\n",
    "* Publish your public and key and message to Piazza.\n",
    "\n",
    "* Exchange private key with other classmates to Piazza.\n",
    "\n",
    "* Test!\n",
    "\n",
    "\n",
    "**Insert Narrative here in this block - One or two pages describing the results of exchanging keys and codes with classmates.**\n",
    "\n",
    "* What was challenging? \n",
    "### Without a doubt the most challenging part was maintaining all of the variables, and how they interact, in my mind as the algorithm was pieced together. Also challenging was remembering to use the Extended Euclidean Algorithm to find d, and to use Fast Modular Exponentiation to encrypt and decrypt. When I was first able to decrypt a message, it was exhilirating and exciting, especially given the constant test & error until it finally worked.\n",
    "\n",
    "* Who helped you with your project? \n",
    "### I got help from the websites listed below, office hour questions and comments from fellow classmates. I also used a tutor to help me debug my code and provide a check on my mathelatical thinking.\n",
    "\n",
    "* Which resources were most helpful?\n",
    "* https://www.geeksforgeeks.org/sieve-of-eratosthenes/\n",
    "* https://www.khanacademy.org/computing/computer-science/cryptography/modarithmetic/a/the-euclidean-algorithm\n",
    "* https://en.wikipedia.org/wiki/Modular_exponentiation\n",
    "* https://en.wikipedia.org/wiki/Euclidean_algorithm\n",
    "* https://en.wikipedia.org/wiki/List_of_prime_numbers#The_first_1000_prime_numbers\n",
    "* https://primes.utm.edu/lists/small/10000.txt\n",
    "* https://crypto.stackexchange.com/questions/19444/rsa-given-q-p-and-e I used this one after several hours of not finding a better way to find gcd\n",
    "\n",
    "\n",
    "* Best Mistake?\n",
    "### I made many mistakes but I think the best (or most frustrating) was to discover, after referring back to my notes over and over, was to figure out how to distinguish between \"d\" and \"e\".  I finally after several days was able to discover \"e\" was for \"encrypt\" and \"d\" is used for \"decrypt\".\n",
    "\n"
   ]
  },
  {
   "cell_type": "markdown",
   "metadata": {},
   "source": [
    "### 6.\n",
    "**RSA part 2:**\n",
    "\n",
    "After you have tested your RSA package yourself, test it with classmates by publishing both the private and public keys on Piazza category for this (this will be a folder separate from Project) for a message. Then post 3 messages with just the public key for people to break - use both very small n ‘s (under 1000) for practice, and some with a challenge.\n",
    "\n",
    "* To break others’ code you just need to factor n (public key).\n",
    "\n",
    "* Write simple “brute force” method for finding for prime factors of n and use this to try to crack codes.\n",
    "\n",
    "* To improve this factoring algorithm, consider THM 2 from page 258.\n",
    "\n",
    "\n",
    "**Implementing a factoring algorithm:**\n",
    "\n",
    "Implement the basic brute force factorization algorithm shown as pseudo code below to find prime factors of n.\n",
    "\n",
    "Brute Force Factoring\n",
    "\n",
    " def factorize(n):\n",
    "      # n is a number, return the smallest factor of n\n",
    "      for i from 2 to n-1:\n",
    "          if i divides n:\n",
    "\t      return i\n",
    "      return FALSE\n"
   ]
  },
  {
   "cell_type": "code",
   "execution_count": 15,
   "metadata": {},
   "outputs": [],
   "source": [
    "## \"6\"  Include your own code for brute force method of finding factors. (just rewrite above and cpmment the code)\n",
    "\n",
    "def get_primes_to_sqrt(n):\n",
    "    # we know that the prime we find must be less than or equal to the square root of n\n",
    "    # [0, 1, 2, 3, 4, 5, 6, 7, 8, 9, 10, 11, 12]\n",
    "    # [F  F  T  T  T  T  T  T  T  T   T   T   T] \n",
    "    cap = int((n+1)**0.5)+1 # set the cap to the square root of n+1 (plus an extra 1 for wiggle room)\n",
    "    # primes variable will represent whether the number at that index is prime.  eg: primes[7] == True, primes[8] == False\n",
    "    primes = [True]*cap # create that many trues (so if number is 10,000, cap will be 101, and 101*101 >= 10,000)\n",
    "    primes[0] = False # 0 can't be prime\n",
    "    primes[1] = False # 1 also can't be prime\n",
    "    p = 1 # so starting from 1\n",
    "    \n",
    "    while p < cap: # as long as p is less than the cap\n",
    "        p = p + 1 # add 1 to it\n",
    "        while p < cap and primes[p] == False: # and as long as primes[p] has already been determiend as not prime\n",
    "            p = p + 1 # add 1 until it hits a number that IS prime (since it's not divisible by any smaller numbers)\n",
    "        for i in range(p*p, cap, p): # now starting from p, make every p'th number non-prime (not counting p)\n",
    "            primes[i] = False \n",
    "            # 0f 1f 2T 3T 4f 5T 6f 7T 8f 9f 10f 11T 12f 13 14f 15f 16f 17 18f 19 20f 21f 22f 23..\n",
    "            # note; I START AT p*p because EVERYTHING between 11 and 121 that's divisble by 11 would have to be divisible by a number < 11\n",
    "            # eg: 77 looks like it might be prime, but it's divisble by 11, and ALSO by 7 (which is less than 11) so no need to check 77.\n",
    "    prime_numbers = [] # prepare the prime number box\n",
    "    for i in range(0, cap): # go through the entire collection of trues and falses\n",
    "        if primes[i] == True: # and if a value is true\n",
    "            prime_numbers.append(i) # that index (i) is prime\n",
    "    return prime_numbers # return the numbers\n",
    "    \n",
    "\n"
   ]
  },
  {
   "cell_type": "markdown",
   "metadata": {},
   "source": [
    "### 7.\n",
    "* Describe your attempts to \"break\" codes for which you do not have the private key. What happens as you try to factor large \"n\"s?\n",
    "### The Jupyter tab slows down considerably as I attempt to break codes with very large n values.  However, with the smaller n values, it is not even noticeable as the program tries to run through all of the options.\n",
    "\n",
    "* What happens as you try to factor very large numbers?\n",
    "### When I try to factor very large numbers the Jupyter tab slows down, and even stops working entirely (at least from my point of view) and I need to hard stop the operation to get my computer back.\n",
    "\n",
    "\n",
    "\n",
    "\n"
   ]
  },
  {
   "cell_type": "code",
   "execution_count": 16,
   "metadata": {},
   "outputs": [
    {
     "name": "stdout",
     "output_type": "stream",
     "text": [
      "Prime count: 9486701\n"
     ]
    },
    {
     "data": {
      "text/plain": [
       "(23697955405914833, 28794290241716387)"
      ]
     },
     "execution_count": 16,
     "metadata": {},
     "output_type": "execute_result"
    }
   ],
   "source": [
    "## Note that this only works when main is not running for some reason (I'm not sure why this is the case)\n",
    "\n",
    "def get_p_q_from_n(n):\n",
    "    possibilities = get_primes_to_sqrt(n) #setting up the possibilities from get primes to square root of n\n",
    "    print(\"Prime count: \" + str(len(possibilities)))\n",
    "    for possibility in possibilities: #setting for loop \n",
    "        if n%possibility==0: #if n modulo possibility is zero\n",
    "            p = possibility #we set p equal to possibility\n",
    "            q = n//p #setting q equal to n divided by p\n",
    "            return (p, q) #here we return p and q\n",
    "    return None\n",
    "\n",
    "def get_private_key_from_public_key(e, n):\n",
    "    p, q = get_p_q_from_n(n) #setting p and q equal to get_p_q_from_n(n)\n",
    "    m = (p-1)*(q-1) #setting m per the RSA given equation for m\n",
    "    d = egcd(e, m) #setting d equal to egcd of e and m\n",
    "    while d <= 0: #if d is negative making it positive\n",
    "        d += m #d plus m until it's positive\n",
    "    return d, n\n",
    "\n",
    "\n",
    "e = 113\n",
    "n = 28794290241716387\n",
    "(d, n) = get_private_key_from_public_key(e, n)\n",
    "(d, n)"
   ]
  },
  {
   "cell_type": "code",
   "execution_count": 20,
   "metadata": {},
   "outputs": [
    {
     "data": {
      "text/plain": [
       "'Every Fall, Orion points the way,'"
      ]
     },
     "execution_count": 20,
     "metadata": {},
     "output_type": "execute_result"
    }
   ],
   "source": [
    "message = [2579706886152660, 1506880588871094, 25824199538612172, 12324506914914625, 3910629358746840, 19942730250851363, 12407119628852595, 20436916271957116, 22358653510094960, 22358653510094960, 18133059900110149, 19942730250851363, 18350208408879280, 12324506914914625, 27102085920647667, 28009467377098228, 19348565858364802, 19942730250851363, 8479118201845191, 28009467377098228, 27102085920647667, 19348565858364802, 8302426957980714, 19270259444554612, 19942730250851363, 8302426957980714, 13211641791567831, 25824199538612172, 19942730250851363, 8097851867855643, 20436916271957116, 3910629358746840, 18133059900110149]\n",
    "\n",
    "Decode(n, d, message)\n",
    "\n"
   ]
  },
  {
   "cell_type": "markdown",
   "metadata": {},
   "source": [
    "### 8.\n",
    "How many codes did you break? Give some examples.\n"
   ]
  },
  {
   "cell_type": "code",
   "execution_count": null,
   "metadata": {},
   "outputs": [],
   "source": [
    "### I had some success in breaking many of the messages with smaller n values. However, as the n \n",
    "### values got extremely large, my Jupyter Lab tab slowed significantly and i had to stop the \n",
    "### program as it was taking too long!\n",
    "\n",
    "### Alana Bellucci \n",
    "### Public key (e, n) = (5, 3781)\n",
    "### Encoded message = [2225, 1115, 1906, 1906, 2804, 1838, 2225, 1115, 945, 945, 3025, 864, 1867, 1867, 2339, 2043]\n",
    "### Decoded d = 713\n",
    "### Decoded message = Happy Halloween!\n",
    "\n",
    "\n",
    "### Thomas Dolan\n",
    "### Public key (e, n) = (7, 3599)\n",
    "### Encoded message = [1567, 1918, 2591, 1951, 2634, 1297, 2591, 268, 1391, 3130, 2591, 1918, 1391, 268, 1701, 2634, 3322, 2591, 1701, 734, 2349, 2946, 2591, 1749, 2591, 371, 2349, 2619, 2349, 1701, 2591, 3130, 3386, 2591, 588, 1297, 371, 2634, 2946, 2113]\n",
    "### Decoded d = 2983\n",
    "### Decoded message: 'If you can factor this 4 digit n, kudos.'\n",
    "\n",
    "### Professor Stade\n",
    "### Public key: [113, 28794290241716387]\n",
    "### Decoded d: 23697955405914833\n",
    "### Encoded message = [2579706886152660, 1506880588871094, 25824199538612172, 12324506914914625, 3910629358746840, 19942730250851363, 12407119628852595, 20436916271957116, 22358653510094960, 22358653510094960, 18133059900110149, 19942730250851363, 18350208408879280, 12324506914914625, 27102085920647667, 28009467377098228, 19348565858364802, 19942730250851363, 8479118201845191, 28009467377098228, 27102085920647667, 19348565858364802, 8302426957980714, 19270259444554612, 19942730250851363, 8302426957980714, 13211641791567831, 25824199538612172, 19942730250851363, 8097851867855643, 20436916271957116, 3910629358746840, 18133059900110149]\n",
    "### Decoded message: 'Every Fall, Orion points the way,'\n"
   ]
  },
  {
   "cell_type": "markdown",
   "metadata": {},
   "source": [
    "### 9. \n",
    "\n",
    "Now implement at least **two** improvements to your factoring method. \n",
    "\n",
    "To improve the brute force method - a very naive and slow approach in many ways. We recommend considering improvements in the following order.\n",
    "\n",
    "**Basic Improvement #1 :** Skip over certain numbers (pick at least one of these):\n",
    "\n",
    "The brute force approach above tests even numbers as well as odd. If the number is odd, there is no point searching for an even factor.\n",
    "\n",
    "We can do a better job tackling multiples of 3. If the number is not a multiple of 3, then no factor can be a multiple of 3 either.\n",
    "\n",
    "How about multiples of 5,7,11,13,…?\n",
    "\n",
    "**Basic Improvement #2: The brute force approach iterates all the way to n−1n−1. Can we stop earlier?**\n",
    "\n",
    "To improve the brute force method - a very naive and slow approach in many ways. \n",
    "\n",
    "Hint: Explain with examples how using THM 3 page 258 could improve the brute force method of factoring by implementing (and/or other methods) to improve the brute force method.\n",
    "\n",
    "Then add this technique to your factoring code to improve.\n",
    "\n",
    "\n",
    "Include some narrative at the top of you code or in a text block about your choices.\n",
    "\n",
    "See advanced options in the project description in Moodle.\n",
    "\n",
    " \n",
    "\n"
   ]
  },
  {
   "cell_type": "markdown",
   "metadata": {},
   "source": [
    "## for 9 include code for improvements to factoring algorithm.  Please comment\n",
    "\n",
    "\n",
    "### Improvmeent 1. I implemented Sieve of Eratosthenes - we are able to skip through the p+p (in the official version) by simply multiplying by p.  \n",
    "### My refinement starts at p*p, and counts by p. Because nothing between p and p*p could be divisible by p without also \n",
    "### being divisble by a number smaller than p.\n",
    "### Improvement 2. I am capping it out at the square root of the target number - which is also a huge improvement\n",
    "### Any number that is greater than the square root of our target and can divide our target must be paired with a number that is smaller than the square root of our target.\n",
    "\n",
    "\n",
    "def get_primes_to_sqrt(n):\n",
    "    # we know that the prime we find must be less than or equal to the square root of n\n",
    "    # [0, 1, 2, 3, 4, 5, 6, 7, 8, 9, 10, 11, 12]\n",
    "    # [F  F  T  T  T  T  T  T  T  T   T   T   T] \n",
    "    cap = int((n+1)**0.5)+1 # set the cap to the square root of n+1 (plus an extra 1 for wiggle room)\n",
    "    # primes variable will represent whether the number at that index is prime.  eg: primes[7] == True, primes[8] == False\n",
    "    primes = [True]*cap # create that many trues (so if number is 10,000, cap will be 101, and 101*101 >= 10,000)\n",
    "    primes[0] = False # 0 can't be prime\n",
    "    primes[1] = False # 1 also can't be prime\n",
    "    p = 1 # so starting from 1\n",
    "    \n",
    "    while p < cap: # as long as p is less than the cap\n",
    "        p = p + 1 # add 1 to it\n",
    "        while p < cap and primes[p] == False: # and as long as primes[p] has already been determiend as not prime\n",
    "            p = p + 1 # add 1 until we hit a number that IS prime (since it's not divisible by any smaller numbers)\n",
    "        for i in range(p*p, cap, p): # now starting from p, make every p'th number non-prime (not counting p)\n",
    "            primes[i] = False \n",
    "            # 0f 1f 2T 3T 4f 5T 6f 7T 8f 9f 10f 11T 12f 13 14f 15f 16f 17 18f 19 20f 21f 22f 23..\n",
    "            # note; WE START AT p*p because EVERYTHING between 11 and 121 that's divisble by 11 would have to be divisible by a number < 11\n",
    "            # eg: 77 looks like it might be prime, but it's divisble by 11, and ALSO by 7 (which is less than 11) so no need to check 77.\n",
    "    prime_numbers = [] # prepare the prime number box\n",
    "    for i in range(0, cap): # go through the entire collection of trues and falses\n",
    "        if primes[i] == True: # and if a value is true\n",
    "            prime_numbers.append(i) # that index (i) is prime\n",
    "    return prime_numbers # return the numbers"
   ]
  },
  {
   "cell_type": "markdown",
   "metadata": {},
   "source": [
    "### 10.\n",
    "*Conclusion: Return to the questions and comments you asked about in the RSA in homework about Number Theory. Answer your questions and/or explain what you have learned.\n",
    "*Q1. What makes two primes good choices for determining n? Are there good or bad primes? \n",
    "### Yes. There are \"good\" and \"bad\" primes for choosing n. As it turns out, the smaller the n the easier it might be for someone to crack your code.  Generally speaking, the larger the n, the more difficult you make it for someone to brute force discover your hidden key.\n",
    "\n",
    "*Q2. If the message is very long, wouldn't someone be able to decipher your message by looking for a\n",
    "pattern?\n",
    "### Yes. In fact, short messages with a given context can be deciphered. This is even mentioned at the end of the week by the professor given an example using [843, 2371, 2371, 2310, 1262, 4723, 58, 4115, 1560, 4431] and the context of closing out week.\n",
    "\n",
    "*Q3. If RSA relies so heavily on the difficulty of factoring prime numbers, if ever someone figures out an easier way to do it, would the world economy be able to quickly pivot to a different way of encrypting messages?\n",
    "### This is not clear. Since I now know RSA is the backbone of the entire internet, and is the most copied software in the world, it seems unlikely that we would be able to quickly pivot to a new encrypting algorithm, nor is it clear if one even exists!\n",
    " \n",
    "\n"
   ]
  },
  {
   "cell_type": "markdown",
   "metadata": {},
   "source": [
    "## Grading ##\n",
    "    \n",
    "Grading - all code must be commented.\n",
    "\n",
    "**Max grade 60 pts** - Successful implementation of the 1 - 4 , and 10. Clear and comprehensive write up. Do not neglect introduction.\n",
    "\n",
    "**Max grade 80 pts** - add #5, and  must include testing code and exchanging keys at least 3 times. Clear and comprehensive write-up.\n",
    "\n",
    "#You must be exchanging public and private keys (thru #5 ) a few days early (see Moodle for date) before the project is due to  get credit for the final 20 point of the project. (#6/7/8/9)\n",
    "\n",
    "**Max grade 100 pts** - Do all of #1-#10.  **Must be exchanging codes with keys by Sat. noon (weekend before the project is due) to do (#6/7/8/9)** \n",
    "Clear and comprehensive write-up.\n",
    "\n",
    "\n",
    "Do NOT copy code from the internet (or anywhere)\n",
    "Do not ask questions on stackoverflow or similar etc…\n",
    "You are expected to have read the honestly notes in the syllabus.\n",
    "\n",
    "Credit sources you used for additional understanding.\n",
    "Credit classmates that helped you.\n",
    "\n"
   ]
  },
  {
   "cell_type": "code",
   "execution_count": null,
   "metadata": {},
   "outputs": [],
   "source": []
  }
 ],
 "metadata": {
  "kernelspec": {
   "display_name": "Python 3",
   "language": "python",
   "name": "python3"
  },
  "language_info": {
   "codemirror_mode": {
    "name": "ipython",
    "version": 3
   },
   "file_extension": ".py",
   "mimetype": "text/x-python",
   "name": "python",
   "nbconvert_exporter": "python",
   "pygments_lexer": "ipython3",
   "version": "3.6.7"
  }
 },
 "nbformat": 4,
 "nbformat_minor": 2
}
